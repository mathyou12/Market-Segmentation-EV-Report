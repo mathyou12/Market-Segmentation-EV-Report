{
 "cells": [
  {
   "cell_type": "code",
   "execution_count": 42,
   "id": "87c6e2cd-cb77-4445-8779-ea57d8248bb7",
   "metadata": {},
   "outputs": [],
   "source": [
    "import pandas as pd\n",
    "\n",
    "# Load CSV files\n",
    "ev_maker_place = pd.read_csv('EV Maker by Place.csv')\n",
    "ev_cat = pd.read_csv('ev_cat_01-24.csv')\n",
    "ev_sales_by_makers_and_cat = pd.read_csv('ev_sales_by_makers_and_cat_15-24.csv')\n",
    "operational_pc = pd.read_csv('OperationalPC.csv')\n",
    "vehicle_class = pd.read_csv('Vehicle Class - All.csv')"
   ]
  },
  {
   "cell_type": "code",
   "execution_count": 43,
   "id": "14fd8d36-5909-4999-8ce3-facb1cc6f48c",
   "metadata": {},
   "outputs": [
    {
     "name": "stdout",
     "output_type": "stream",
     "text": [
      "Path to dataset files: C:\\Users\\del\\.cache\\kagglehub\\datasets\\sarthaknagpal1\\indian-cities-vehicle-data\\versions\\1\n"
     ]
    }
   ],
   "source": [
    "import kagglehub\n",
    "\n",
    "# Download dataset\n",
    "path = kagglehub.dataset_download(\"sarthaknagpal1/indian-cities-vehicle-data\")\n",
    "print(\"Path to dataset files:\", path)"
   ]
  },
  {
   "cell_type": "code",
   "execution_count": 44,
   "id": "f477e70b-8c83-435d-9ebb-be28b0faf10c",
   "metadata": {},
   "outputs": [
    {
     "name": "stdout",
     "output_type": "stream",
     "text": [
      "Path to dataset files: C:\\Users\\del\\.cache\\kagglehub\\datasets\\praveenchoudhary1217\\electric-vehicle-sales-in-india\\versions\\1\n"
     ]
    }
   ],
   "source": [
    "# Download dataset\n",
    "path = kagglehub.dataset_download(\"praveenchoudhary1217/electric-vehicle-sales-in-india\")\n",
    "print(\"Path to dataset files:\", path)\n"
   ]
  },
  {
   "cell_type": "code",
   "execution_count": 45,
   "id": "d66797cd-7684-42d8-ab2e-a46a3d0b2ddd",
   "metadata": {},
   "outputs": [],
   "source": [
    "# Try using 'ISO-8859-1' encoding to read the file\n",
    "vehicle_composition = pd.read_csv('india-composition-of-vehicle-population-as-of-march-2017.csv', encoding='ISO-8859-1')\n",
    "registered_non_transport = pd.read_csv('total-registered-non-transport-vehicles-in-million-plus-cities-of-india-as-on-31st-march-2017.csv', encoding='ISO-8859-1')\n",
    "production_data = pd.read_csv('category-wise-automobiles-production-in-india-2000-2016.csv', encoding='ISO-8859-1')\n"
   ]
  },
  {
   "cell_type": "code",
   "execution_count": 46,
   "id": "ca16ef5e-8d86-4650-9f97-ca013c063a72",
   "metadata": {},
   "outputs": [
    {
     "name": "stdout",
     "output_type": "stream",
     "text": [
      "Index(['Year', 'Two Wheelers (as % age of total vehicle population)',\n",
      "       'Cars, Jeeps & Taxis (as % age of total vehicle population)',\n",
      "       'Buses (as % age of total vehicle population)',\n",
      "       'Goods Vehicles (as % age of total vehicle population)',\n",
      "       'Other Vehicles (as % age of total vehicle population)',\n",
      "       'Total (Million)'],\n",
      "      dtype='object')\n"
     ]
    }
   ],
   "source": [
    "# Check the column names in your DataFrame\n",
    "print(vehicle_composition.columns)"
   ]
  },
  {
   "cell_type": "code",
   "execution_count": 47,
   "id": "74cf7783-736f-4e99-96c3-2f2a810eacb8",
   "metadata": {},
   "outputs": [],
   "source": [
    "# Drop rows with missing values in the 'Two Wheelers (as % age of total vehicle population)' column\n",
    "vehicle_composition.dropna(subset=['Two Wheelers (as % age of total vehicle population)'], inplace=True)"
   ]
  },
  {
   "cell_type": "code",
   "execution_count": 48,
   "id": "2f177646-8108-4e43-a786-375db13ffb45",
   "metadata": {},
   "outputs": [
    {
     "name": "stdout",
     "output_type": "stream",
     "text": [
      "   Year  Two Wheelers (as % age of total vehicle population)  \\\n",
      "0  1951                                                8.8     \n",
      "1  1961                                               13.2     \n",
      "2  1971                                               30.9     \n",
      "3  1981                                               48.6     \n",
      "4  1991                                               66.4     \n",
      "\n",
      "   Cars, Jeeps & Taxis (as % age of total vehicle population)  \\\n",
      "0                                               52.0            \n",
      "1                                               46.6            \n",
      "2                                               36.6            \n",
      "3                                               21.5            \n",
      "4                                               13.8            \n",
      "\n",
      "  Buses (as % age of total vehicle population)  \\\n",
      "0                                         11.1   \n",
      "1                                          8.6   \n",
      "2                                            5   \n",
      "3                                            3   \n",
      "4                                          1.5   \n",
      "\n",
      "   Goods Vehicles (as % age of total vehicle population)  \\\n",
      "0                                               26.8       \n",
      "1                                               25.3       \n",
      "2                                               18.4       \n",
      "3                                               10.3       \n",
      "4                                                6.3       \n",
      "\n",
      "  Other Vehicles (as % age of total vehicle population)  Total (Million)  \n",
      "0                                                1.3                 0.3  \n",
      "1                                                6.3                 0.7  \n",
      "2                                                9.1                 1.9  \n",
      "3                                               16.6                 5.4  \n",
      "4                                               11.9                21.4  \n"
     ]
    }
   ],
   "source": [
    "# Preview the first few rows of the dataset\n",
    "print(vehicle_composition.head())"
   ]
  },
  {
   "cell_type": "code",
   "execution_count": 49,
   "id": "992f54ec-e7ea-402f-a4c7-f934c47e82dc",
   "metadata": {},
   "outputs": [
    {
     "name": "stdout",
     "output_type": "stream",
     "text": [
      "Two Wheelers (as % age of total vehicle population)           0\n",
      "Cars, Jeeps & Taxis (as % age of total vehicle population)    0\n",
      "Buses (as % age of total vehicle population)                  1\n",
      "Goods Vehicles (as % age of total vehicle population)         0\n",
      "Other Vehicles (as % age of total vehicle population)         1\n",
      "dtype: int64\n"
     ]
    }
   ],
   "source": [
    "# Convert all values to numeric, coercing errors to NaN\n",
    "features_numeric = features.apply(pd.to_numeric, errors='coerce')\n",
    "\n",
    "# Check for NaN values\n",
    "print(features_numeric.isnull().sum())"
   ]
  },
  {
   "cell_type": "code",
   "execution_count": 50,
   "id": "f7c0d557-cade-4403-a68f-dc3681219055",
   "metadata": {},
   "outputs": [],
   "source": [
    "features_numeric = features_numeric.dropna()"
   ]
  },
  {
   "cell_type": "code",
   "execution_count": 51,
   "id": "f6e23f7f-040c-4765-bbca-f6392d3554fd",
   "metadata": {},
   "outputs": [],
   "source": [
    "features_numeric = features_numeric.fillna(features_numeric.mean())"
   ]
  },
  {
   "cell_type": "code",
   "execution_count": 52,
   "id": "a2bfa444-8ad7-4a62-8fa9-955a3bc77680",
   "metadata": {},
   "outputs": [],
   "source": [
    "# Standardize the features again after cleaning\n",
    "scaled_features = scaler.fit_transform(features_numeric)"
   ]
  },
  {
   "cell_type": "code",
   "execution_count": 53,
   "id": "86f59231-d320-49d4-9822-07597cc26338",
   "metadata": {},
   "outputs": [],
   "source": [
    "# Drop columns with non-numeric data\n",
    "features_cleaned = features.drop(columns=['Buses (as % age of total vehicle population)', \n",
    "                                          'Other Vehicles (as % age of total vehicle population)'])"
   ]
  },
  {
   "cell_type": "code",
   "execution_count": 54,
   "id": "a9034ed9-396c-4c37-b539-e1c85e8ae353",
   "metadata": {},
   "outputs": [
    {
     "name": "stdout",
     "output_type": "stream",
     "text": [
      "    Two Wheelers (as % age of total vehicle population)  \\\n",
      "0                                                8.80     \n",
      "1                                               13.20     \n",
      "2                                               30.90     \n",
      "3                                               48.60     \n",
      "4                                               66.40     \n",
      "5                                               70.10     \n",
      "6                                               70.60     \n",
      "7                                               70.90     \n",
      "8                                               71.40     \n",
      "9                                               72.10     \n",
      "10                                              72.20     \n",
      "11                                              71.50     \n",
      "12                                              71.50     \n",
      "13                                              71.70     \n",
      "14                                              71.70     \n",
      "15                                              71.80     \n",
      "16                                              72.40     \n",
      "17                                              72.70     \n",
      "18                                              73.10     \n",
      "19                                              73.50     \n",
      "20                                              73.50     \n",
      "21                                              73.86     \n",
      "22                                               0.00     \n",
      "\n",
      "    Cars, Jeeps & Taxis (as % age of total vehicle population)  \\\n",
      "0                                                52.0            \n",
      "1                                                46.6            \n",
      "2                                                36.6            \n",
      "3                                                21.5            \n",
      "4                                                13.8            \n",
      "5                                                12.8            \n",
      "6                                                12.9            \n",
      "7                                                12.8            \n",
      "8                                                13.0            \n",
      "9                                                12.7            \n",
      "10                                               12.9            \n",
      "11                                               13.1            \n",
      "12                                               13.2            \n",
      "13                                               13.3            \n",
      "14                                               13.5            \n",
      "15                                               13.6            \n",
      "16                                               13.5            \n",
      "17                                               13.6            \n",
      "18                                               13.6            \n",
      "19                                               13.6            \n",
      "20                                               13.1            \n",
      "21                                               13.3            \n",
      "22                                                0.0            \n",
      "\n",
      "   Buses (as % age of total vehicle population)  \\\n",
      "0                                          11.1   \n",
      "1                                           8.6   \n",
      "2                                             5   \n",
      "3                                             3   \n",
      "4                                           1.5   \n",
      "5                                           1.2   \n",
      "6                                           1.1   \n",
      "7                                           1.1   \n",
      "8                                           1.1   \n",
      "9                                           1.1   \n",
      "10                                          1.1   \n",
      "11                                          1.4   \n",
      "12                                          1.4   \n",
      "13                                          1.3   \n",
      "14                                          1.2   \n",
      "15                                          1.1   \n",
      "16                                            1   \n",
      "17                                            1   \n",
      "18                                            1   \n",
      "19                                            1   \n",
      "20                                          0.8   \n",
      "21                                         0.74   \n",
      "22               Includes Omni buses since 2001   \n",
      "\n",
      "    Goods Vehicles (as % age of total vehicle population)  \\\n",
      "0                                               26.80       \n",
      "1                                               25.30       \n",
      "2                                               18.40       \n",
      "3                                               10.30       \n",
      "4                                                6.30       \n",
      "5                                                5.40       \n",
      "6                                                5.00       \n",
      "7                                                5.20       \n",
      "8                                                5.20       \n",
      "9                                                4.90       \n",
      "10                                               4.90       \n",
      "11                                               5.30       \n",
      "12                                               5.30       \n",
      "13                                               5.30       \n",
      "14                                               5.00       \n",
      "15                                               5.00       \n",
      "16                                               4.80       \n",
      "17                                               4.70       \n",
      "18                                               4.60       \n",
      "19                                               4.40       \n",
      "20                                               4.60       \n",
      "21                                               4.84       \n",
      "22                                               0.00       \n",
      "\n",
      "   Other Vehicles (as % age of total vehicle population)  \n",
      "0                                                 1.3     \n",
      "1                                                 6.3     \n",
      "2                                                 9.1     \n",
      "3                                                16.6     \n",
      "4                                                11.9     \n",
      "5                                                10.5     \n",
      "6                                                10.4     \n",
      "7                                                  10     \n",
      "8                                                 9.4     \n",
      "9                                                 9.1     \n",
      "10                                                8.8     \n",
      "11                                                8.7     \n",
      "12                                                8.6     \n",
      "13                                                8.4     \n",
      "14                                                8.6     \n",
      "15                                                8.5     \n",
      "16                                                8.3     \n",
      "17                                                  8     \n",
      "18                                                7.7     \n",
      "19                                                7.5     \n",
      "20                                                8.1     \n",
      "21                                               7.27     \n",
      "22  Other vehicles include tractors, trailers, t...     \n",
      "    Two Wheelers (as % age of total vehicle population)  \\\n",
      "0                                                8.80     \n",
      "1                                               13.20     \n",
      "2                                               30.90     \n",
      "3                                               48.60     \n",
      "4                                               66.40     \n",
      "5                                               70.10     \n",
      "6                                               70.60     \n",
      "7                                               70.90     \n",
      "8                                               71.40     \n",
      "9                                               72.10     \n",
      "10                                              72.20     \n",
      "11                                              71.50     \n",
      "12                                              71.50     \n",
      "13                                              71.70     \n",
      "14                                              71.70     \n",
      "15                                              71.80     \n",
      "16                                              72.40     \n",
      "17                                              72.70     \n",
      "18                                              73.10     \n",
      "19                                              73.50     \n",
      "20                                              73.50     \n",
      "21                                              73.86     \n",
      "22                                               0.00     \n",
      "\n",
      "    Cars, Jeeps & Taxis (as % age of total vehicle population)  \\\n",
      "0                                                52.0            \n",
      "1                                                46.6            \n",
      "2                                                36.6            \n",
      "3                                                21.5            \n",
      "4                                                13.8            \n",
      "5                                                12.8            \n",
      "6                                                12.9            \n",
      "7                                                12.8            \n",
      "8                                                13.0            \n",
      "9                                                12.7            \n",
      "10                                               12.9            \n",
      "11                                               13.1            \n",
      "12                                               13.2            \n",
      "13                                               13.3            \n",
      "14                                               13.5            \n",
      "15                                               13.6            \n",
      "16                                               13.5            \n",
      "17                                               13.6            \n",
      "18                                               13.6            \n",
      "19                                               13.6            \n",
      "20                                               13.1            \n",
      "21                                               13.3            \n",
      "22                                                0.0            \n",
      "\n",
      "   Buses (as % age of total vehicle population)  \\\n",
      "0                                          11.1   \n",
      "1                                           8.6   \n",
      "2                                             5   \n",
      "3                                             3   \n",
      "4                                           1.5   \n",
      "5                                           1.2   \n",
      "6                                           1.1   \n",
      "7                                           1.1   \n",
      "8                                           1.1   \n",
      "9                                           1.1   \n",
      "10                                          1.1   \n",
      "11                                          1.4   \n",
      "12                                          1.4   \n",
      "13                                          1.3   \n",
      "14                                          1.2   \n",
      "15                                          1.1   \n",
      "16                                            1   \n",
      "17                                            1   \n",
      "18                                            1   \n",
      "19                                            1   \n",
      "20                                          0.8   \n",
      "21                                         0.74   \n",
      "22               Includes Omni buses since 2001   \n",
      "\n",
      "    Goods Vehicles (as % age of total vehicle population)  \\\n",
      "0                                               26.80       \n",
      "1                                               25.30       \n",
      "2                                               18.40       \n",
      "3                                               10.30       \n",
      "4                                                6.30       \n",
      "5                                                5.40       \n",
      "6                                                5.00       \n",
      "7                                                5.20       \n",
      "8                                                5.20       \n",
      "9                                                4.90       \n",
      "10                                               4.90       \n",
      "11                                               5.30       \n",
      "12                                               5.30       \n",
      "13                                               5.30       \n",
      "14                                               5.00       \n",
      "15                                               5.00       \n",
      "16                                               4.80       \n",
      "17                                               4.70       \n",
      "18                                               4.60       \n",
      "19                                               4.40       \n",
      "20                                               4.60       \n",
      "21                                               4.84       \n",
      "22                                               0.00       \n",
      "\n",
      "   Other Vehicles (as % age of total vehicle population)  \n",
      "0                                                 1.3     \n",
      "1                                                 6.3     \n",
      "2                                                 9.1     \n",
      "3                                                16.6     \n",
      "4                                                11.9     \n",
      "5                                                10.5     \n",
      "6                                                10.4     \n",
      "7                                                  10     \n",
      "8                                                 9.4     \n",
      "9                                                 9.1     \n",
      "10                                                8.8     \n",
      "11                                                8.7     \n",
      "12                                                8.6     \n",
      "13                                                8.4     \n",
      "14                                                8.6     \n",
      "15                                                8.5     \n",
      "16                                                8.3     \n",
      "17                                                  8     \n",
      "18                                                7.7     \n",
      "19                                                7.5     \n",
      "20                                                8.1     \n",
      "21                                               7.27     \n",
      "22  Other vehicles include tractors, trailers, t...     \n"
     ]
    }
   ],
   "source": [
    "# Check if values in specific column are non-numeric (strings)\n",
    "non_numeric_buses = features[features['Buses (as % age of total vehicle population)'].apply(lambda x: isinstance(x, str))]\n",
    "print(non_numeric_buses)\n",
    "\n",
    "non_numeric_other_vehicles = features[features['Other Vehicles (as % age of total vehicle population)'].apply(lambda x: isinstance(x, str))]\n",
    "print(non_numeric_other_vehicles)"
   ]
  },
  {
   "cell_type": "code",
   "execution_count": 55,
   "id": "0c851c39-b4f4-4d09-8ff0-ec519d23221d",
   "metadata": {},
   "outputs": [
    {
     "name": "stdout",
     "output_type": "stream",
     "text": [
      "[[-2.27456356  3.02401679  2.95700353]\n",
      " [-2.08113984  2.5551243   2.72768055]\n",
      " [-1.30304897  1.68680487  1.67279483]\n",
      " [-0.52495809  0.37564253  0.43445073]\n",
      " [ 0.25752878 -0.29296342 -0.17707722]]\n"
     ]
    }
   ],
   "source": [
    "# Standardize the features\n",
    "from sklearn.preprocessing import StandardScaler\n",
    "\n",
    "scaler = StandardScaler()\n",
    "\n",
    "# Use only numeric columns\n",
    "features_numeric = features_cleaned.select_dtypes(include=['float64', 'int64'])\n",
    "\n",
    "# Scale the features\n",
    "scaled_features = scaler.fit_transform(features_numeric)\n",
    "\n",
    "print(scaled_features[:5])  # Print first 5 rows of scaled data"
   ]
  },
  {
   "cell_type": "code",
   "execution_count": 56,
   "id": "280f9537-3391-485d-93db-e91cc426c666",
   "metadata": {},
   "outputs": [
    {
     "name": "stdout",
     "output_type": "stream",
     "text": [
      "       PCA1      PCA2\n",
      "0  4.798324  0.179909\n",
      "1  4.276090  0.083611\n",
      "2  2.708250  0.077858\n",
      "3  0.759885 -0.166012\n",
      "4 -0.416167  0.047248\n"
     ]
    }
   ],
   "source": [
    "from sklearn.decomposition import PCA\n",
    "\n",
    "# Perform PCA to reduce the features to 2 components (for visualization)\n",
    "pca = PCA(n_components=2)  # Reducing to 2 components for visualization\n",
    "pca_features = pca.fit_transform(scaled_features)\n",
    "\n",
    "# Convert to a DataFrame for easier handling\n",
    "pca_df = pd.DataFrame(data=pca_features, columns=['PCA1', 'PCA2'])\n",
    "\n",
    "# Display the first few rows of the PCA-transformed data\n",
    "print(pca_df.head())"
   ]
  },
  {
   "cell_type": "code",
   "execution_count": 57,
   "id": "113fe92b-bd33-4510-adeb-c866fa4037e6",
   "metadata": {},
   "outputs": [
    {
     "data": {
      "image/png": "[encoded data removed]",
      "text/plain": [
       "<Figure size 800x600 with 1 Axes>"
      ]
     },
     "metadata": {},
     "output_type": "display_data"
    }
   ],
   "source": [
    "import matplotlib.pyplot as plt\n",
    "\n",
    "# Plotting the PCA features\n",
    "plt.figure(figsize=(8,6))\n",
    "plt.scatter(pca_df['PCA1'], pca_df['PCA2'], color='blue')\n",
    "plt.title('PCA of EV Market Data')\n",
    "plt.xlabel('PCA Component 1')\n",
    "plt.ylabel('PCA Component 2')\n",
    "plt.show()"
   ]
  },
  {
   "cell_type": "code",
   "execution_count": 58,
   "id": "97baa405-a84c-4f59-9f76-a630e0e1f739",
   "metadata": {},
   "outputs": [
    {
     "data": {
      "image/png": "[encoded data removed]",
      "text/plain": [
       "<Figure size 800x600 with 1 Axes>"
      ]
     },
     "metadata": {},
     "output_type": "display_data"
    }
   ],
   "source": [
    "# Calculate the sum of squared distances for different values of k\n",
    "from sklearn.cluster import KMeans\n",
    "import matplotlib.pyplot as plt\n",
    "\n",
    "# Calculate inertia (sum of squared distances) for different k values\n",
    "inertia = []\n",
    "k_range = range(1, 11)  # We will check for k = 1 to 10\n",
    "for k in k_range:\n",
    "    kmeans = KMeans(n_clusters=k)\n",
    "    kmeans.fit(pca_features)\n",
    "    inertia.append(kmeans.inertia_)\n",
    "\n",
    "# Plot the inertia for each k\n",
    "plt.figure(figsize=(8,6))\n",
    "plt.plot(k_range, inertia, marker='o')\n",
    "plt.title('Elbow Method for Optimal k')\n",
    "plt.xlabel('Number of Clusters (k)')\n",
    "plt.ylabel('Inertia')\n",
    "plt.show()"
   ]
  },
  {
   "cell_type": "code",
   "execution_count": 59,
   "id": "8c97b9ac-b73b-4d16-81ed-dc7c9d6e5f56",
   "metadata": {},
   "outputs": [
    {
     "name": "stdout",
     "output_type": "stream",
     "text": [
      "       PCA1      PCA2  Cluster\n",
      "0  4.798324  0.179909        0\n",
      "1  4.276090  0.083611        0\n",
      "2  2.708250  0.077858        0\n",
      "3  0.759885 -0.166012        1\n",
      "4 -0.416167  0.047248        1\n"
     ]
    }
   ],
   "source": [
    "# Apply K-Means with the optimal number of clusters (e.g., k=3)\n",
    "kmeans = KMeans(n_clusters=3)  # Choose the optimal k\n",
    "pca_df['Cluster'] = kmeans.fit_predict(pca_features)\n",
    "\n",
    "# Display the first few rows with cluster labels\n",
    "print(pca_df.head())"
   ]
  },
  {
   "cell_type": "code",
   "execution_count": 60,
   "id": "54bff934-1f0a-4121-8f28-17446fbd7914",
   "metadata": {},
   "outputs": [
    {
     "data": {
      "image/png": "[encoded data removed]",
      "text/plain": [
       "<Figure size 800x600 with 2 Axes>"
      ]
     },
     "metadata": {},
     "output_type": "display_data"
    }
   ],
   "source": [
    "# Plot the clustered data\n",
    "plt.figure(figsize=(8,6))\n",
    "plt.scatter(pca_df['PCA1'], pca_df['PCA2'], c=pca_df['Cluster'], cmap='viridis')\n",
    "plt.title('K-Means Clusters on PCA-transformed Data')\n",
    "plt.xlabel('PCA Component 1')\n",
    "plt.ylabel('PCA Component 2')\n",
    "plt.colorbar(label='Cluster')\n",
    "plt.show()"
   ]
  },
  {
   "cell_type": "code",
   "execution_count": 61,
   "id": "9e91d426-60b8-49ee-b7be-f596ba53cbdd",
   "metadata": {},
   "outputs": [
    {
     "name": "stdout",
     "output_type": "stream",
     "text": [
      "             PCA1      PCA2\n",
      "Cluster                    \n",
      "0        3.927555  0.113793\n",
      "1       -0.606489  0.152900\n",
      "2       -0.259381 -3.246476\n"
     ]
    }
   ],
   "source": [
    "# Calculate the mean values for each cluster\n",
    "cluster_profiles = pca_df.groupby('Cluster').mean()\n",
    "print(cluster_profiles)"
   ]
  },
  {
   "cell_type": "code",
   "execution_count": 62,
   "id": "f4ddd1f1-45d8-464d-8312-cae39c3787a2",
   "metadata": {},
   "outputs": [
    {
     "name": "stdout",
     "output_type": "stream",
     "text": [
      "Potential Profit in Early Market: 500000000000\n"
     ]
    }
   ],
   "source": [
    "# Assuming 'total_vehicle_population' contains the number of vehicles in each segment\n",
    "# Example formula: Potential Sales = Target Customer Base * Target Price Range\n",
    "\n",
    "target_price_range = 1000000  # Example price for EV\n",
    "target_customer_base = 500000  # Example number of potential customers in the target segment\n",
    "\n",
    "potential_profit = target_customer_base * target_price_range\n",
    "print(f\"Potential Profit in Early Market: {potential_profit}\")"
   ]
  },
  {
   "cell_type": "code",
   "execution_count": null,
   "id": "ba881b9c-da43-4550-b5da-af3f7367fb99",
   "metadata": {},
   "outputs": [],
   "source": []
  }
 ],
 "metadata": {
  "kernelspec": {
   "display_name": "Python 3 (ipykernel)",
   "language": "python",
   "name": "python3"
  },
  "language_info": {
   "codemirror_mode": {
    "name": "ipython",
    "version": 3
   },
   "file_extension": ".py",
   "mimetype": "text/x-python",
   "name": "python",
   "nbconvert_exporter": "python",
   "pygments_lexer": "ipython3",
   "version": "3.11.3"
  }
 },
 "nbformat": 4,
 "nbformat_minor": 5
}
